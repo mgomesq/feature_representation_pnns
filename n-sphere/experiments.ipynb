{
 "cells": [
  {
   "cell_type": "code",
   "execution_count": 10,
   "metadata": {},
   "outputs": [],
   "source": [
    "import pandas as pd\n",
    "import numpy as np\n",
    "import matplotlib.pyplot as plt\n",
    "from functools import partial\n",
    "from sklearn.metrics import accuracy_score\n",
    "\n",
    "import torch\n",
    "from torch import nn\n",
    "import torch.optim as optim\n",
    "\n",
    "from sklearn.model_selection import train_test_split\n",
    "from torch.utils.data import Dataset\n",
    "from torch.utils.data import DataLoader\n",
    "\n",
    "\n",
    "from data import generate_balanced_dataset, SimpleDataset\n",
    "from models import MyNetwork"
   ]
  },
  {
   "cell_type": "markdown",
   "metadata": {},
   "source": [
    "## Generate the dataset\n",
    "\n",
    "Generate the dataset, make sure it is balanced."
   ]
  },
  {
   "cell_type": "code",
   "execution_count": 11,
   "metadata": {},
   "outputs": [
    {
     "name": "stdout",
     "output_type": "stream",
     "text": [
      "Label ratio: 0.5\n"
     ]
    }
   ],
   "source": [
    "dataset = generate_balanced_dataset(\n",
    "            n_points = 1000,\n",
    "            bounds = 2,\n",
    "            n_dimension = 4,\n",
    "            n_sphere_radius = 1,\n",
    "            n_sphere_center = np.array([0,0,0,0]),\n",
    "        )\n",
    "\n",
    "label_ratio = sum(dataset['is_outside'] == True)/len(dataset['is_outside'])\n",
    "print(f'Label ratio: {label_ratio}')"
   ]
  },
  {
   "cell_type": "markdown",
   "metadata": {},
   "source": [
    "## Train moldel for different encoding functions"
   ]
  },
  {
   "cell_type": "code",
   "execution_count": 17,
   "metadata": {},
   "outputs": [],
   "source": [
    "def train_model(model, train_dataloader):\n",
    "\n",
    "    criterion = nn.BCELoss(reduction='mean')\n",
    "    optimizer = optim.Adam(model.parameters(), lr=1e-3)\n",
    "\n",
    "    for epoch in range(1000):\n",
    "        for data in train_dataloader:\n",
    "            \n",
    "            inputs, labels = data\n",
    "            \n",
    "            optimizer.zero_grad()\n",
    "            outputs = model(inputs)\n",
    "            loss = criterion(outputs.flatten(), labels)\n",
    "            loss.backward()\n",
    "            optimizer.step()\n",
    "\n",
    "def test_model(model, x_valid, y_valid):\n",
    "    return accuracy_score((model(x_valid)>0.5).flatten(), y_valid)"
   ]
  },
  {
   "cell_type": "markdown",
   "metadata": {},
   "source": [
    "### Independent features"
   ]
  },
  {
   "cell_type": "code",
   "execution_count": 20,
   "metadata": {},
   "outputs": [],
   "source": [
    "x_data = torch.tensor(dataset['x_0 x_1 x_2 x_3'.split()].values, dtype=torch.float32)\n",
    "y_data = torch.tensor(dataset['is_outside'].values, dtype=torch.float32)\n",
    "\n",
    "x_train, x_valid, y_train, y_valid = train_test_split(x_data, y_data, test_size=0.3, shuffle=True)\n",
    "\n",
    "train_dataset = SimpleDataset(x_train, y_train)\n",
    "train_dataloader = DataLoader(train_dataset, batch_size=100, shuffle=True)"
   ]
  },
  {
   "cell_type": "code",
   "execution_count": 23,
   "metadata": {},
   "outputs": [
    {
     "name": "stdout",
     "output_type": "stream",
     "text": [
      "99\tacc:\t0.97\r"
     ]
    }
   ],
   "source": [
    "no_combination_acc = []\n",
    "\n",
    "for i in range(100):\n",
    "    model = MyNetwork(combined=False)\n",
    "    train_model(model, train_dataloader)\n",
    "    acc = test_model(model, x_valid, y_valid)\n",
    "    no_combination_acc.append(acc)\n",
    "    print(f'{i}\\tacc:\\t{acc:.2f}', end='\\r')"
   ]
  },
  {
   "cell_type": "code",
   "execution_count": 25,
   "metadata": {},
   "outputs": [
    {
     "name": "stdout",
     "output_type": "stream",
     "text": [
      "mean:\t0.9539\n",
      "std:\t0.01951668801592912\n"
     ]
    }
   ],
   "source": [
    "no_combination_acc_array = np.array(no_combination_acc)\n",
    "print(f'mean:\\t{no_combination_acc_array.mean()}')\n",
    "print(f'std:\\t{no_combination_acc_array.std()}')"
   ]
  },
  {
   "cell_type": "markdown",
   "metadata": {},
   "source": [
    "### Combining $\\frac{1}{2}(x_j^{2} + x_k^{2}$)"
   ]
  },
  {
   "cell_type": "code",
   "execution_count": 359,
   "metadata": {},
   "outputs": [],
   "source": [
    "dataset['combined_1'] = (dataset['x_0']**2 + dataset['x_1']**2)/2\n",
    "dataset['combined_2'] = (dataset['x_2']**2 + dataset['x_3']**2)/2\n",
    "\n",
    "x_data = torch.tensor(dataset[['combined_1','combined_2']].values, dtype=torch.float32)\n",
    "y_data = torch.tensor(dataset['is_outside'].values, dtype=torch.float32)\n",
    "\n",
    "x_train, x_valid, y_train, y_valid = train_test_split(x_data, y_data, test_size=0.3, shuffle=True)\n",
    "\n",
    "train_dataset = SimpleDataset(x_train, y_train)\n",
    "train_dataloader = DataLoader(train_dataset, batch_size=100, shuffle=True)"
   ]
  },
  {
   "cell_type": "code",
   "execution_count": 360,
   "metadata": {},
   "outputs": [
    {
     "name": "stdout",
     "output_type": "stream",
     "text": [
      "0\tacc:\t1.00\r"
     ]
    }
   ],
   "source": [
    "ideal_combination_acc = []\n",
    "\n",
    "for i in range(1):\n",
    "    model = MyNetwork(combined=True)\n",
    "    train_model(model, train_dataloader)\n",
    "    acc = test_model(model, x_valid, y_valid)\n",
    "    ideal_combination_acc.append(acc)\n",
    "    print(f'{i}\\tacc:\\t{acc:.2f}', end='\\r')"
   ]
  },
  {
   "cell_type": "code",
   "execution_count": 28,
   "metadata": {},
   "outputs": [
    {
     "name": "stdout",
     "output_type": "stream",
     "text": [
      "mean:\t0.9933333333333337\n",
      "std:\t4.440892098500626e-16\n"
     ]
    }
   ],
   "source": [
    "ideal_combination_acc_array = np.array(ideal_combination_acc)\n",
    "print(f'mean:\\t{ideal_combination_acc_array.mean()}')\n",
    "print(f'std:\\t{ideal_combination_acc_array.std()}')"
   ]
  },
  {
   "cell_type": "markdown",
   "metadata": {},
   "source": [
    "### $g(x_j, x_k) = (x_j \\cdot x_k)$"
   ]
  },
  {
   "cell_type": "code",
   "execution_count": 349,
   "metadata": {},
   "outputs": [],
   "source": [
    "dataset['combined_1'] = dataset['x_0'] * dataset['x_1']\n",
    "dataset['combined_2'] = dataset['x_2'] * dataset['x_3']\n",
    "\n",
    "x_data = torch.tensor(dataset[['combined_1','combined_2']].values, dtype=torch.float32)\n",
    "y_data = torch.tensor(dataset['is_outside'].values, dtype=torch.float32)\n",
    "\n",
    "x_train, x_valid, y_train, y_valid = train_test_split(x_data, y_data, test_size=0.3, shuffle=True)\n",
    "\n",
    "train_dataset = SimpleDataset(x_train, y_train)\n",
    "train_dataloader = DataLoader(train_dataset, batch_size=100, shuffle=True)"
   ]
  },
  {
   "cell_type": "code",
   "execution_count": 350,
   "metadata": {},
   "outputs": [
    {
     "name": "stdout",
     "output_type": "stream",
     "text": [
      "0\tacc:\t0.96\r"
     ]
    }
   ],
   "source": [
    "multiply_combination_acc = []\n",
    "\n",
    "for i in range(1):\n",
    "    model = MyNetwork(combined=True)\n",
    "    train_model(model, train_dataloader)\n",
    "    acc = test_model(model, x_valid, y_valid)\n",
    "    multiply_combination_acc.append(acc)\n",
    "    print(f'{i}\\tacc:\\t{acc:.2f}', end='\\r')"
   ]
  },
  {
   "cell_type": "code",
   "execution_count": 31,
   "metadata": {},
   "outputs": [
    {
     "name": "stdout",
     "output_type": "stream",
     "text": [
      "mean:\t0.9463333333333334\n",
      "std:\t0.004582575694955841\n"
     ]
    }
   ],
   "source": [
    "multiply_combination_acc_array = np.array(multiply_combination_acc)\n",
    "print(f'mean:\\t{multiply_combination_acc_array.mean()}')\n",
    "print(f'std:\\t{multiply_combination_acc_array.std()}')"
   ]
  },
  {
   "cell_type": "markdown",
   "metadata": {},
   "source": [
    "### $g(x_j, x_k) = (x_k + x_k)$"
   ]
  },
  {
   "cell_type": "code",
   "execution_count": 326,
   "metadata": {},
   "outputs": [],
   "source": [
    "dataset['combined_1'] = dataset['x_0'] + dataset['x_1']\n",
    "dataset['combined_2'] = dataset['x_2'] + dataset['x_3']\n",
    "\n",
    "x_data = torch.tensor(dataset[['combined_1','combined_2']].values, dtype=torch.float32)\n",
    "y_data = torch.tensor(dataset['is_outside'].values, dtype=torch.float32)\n",
    "\n",
    "x_train, x_valid, y_train, y_valid = train_test_split(x_data, y_data, test_size=0.3, shuffle=True)\n",
    "\n",
    "train_dataset = SimpleDataset(x_train, y_train)\n",
    "train_dataloader = DataLoader(train_dataset, batch_size=100, shuffle=True)"
   ]
  },
  {
   "cell_type": "code",
   "execution_count": 327,
   "metadata": {},
   "outputs": [
    {
     "name": "stdout",
     "output_type": "stream",
     "text": [
      "0\tacc:\t0.85\r"
     ]
    }
   ],
   "source": [
    "sum_combination_acc = []\n",
    "\n",
    "for i in range(1):\n",
    "    model = MyNetwork(combined=True)\n",
    "    train_model(model, train_dataloader)\n",
    "    acc = test_model(model, x_valid, y_valid)\n",
    "    sum_combination_acc.append(acc)\n",
    "    print(f'{i}\\tacc:\\t{acc:.2f}', end='\\r')"
   ]
  },
  {
   "cell_type": "code",
   "execution_count": 34,
   "metadata": {},
   "outputs": [
    {
     "name": "stdout",
     "output_type": "stream",
     "text": [
      "mean:\t0.8661333333333332\n",
      "std:\t0.007582435844326893\n"
     ]
    }
   ],
   "source": [
    "sum_combination_acc_array = np.array(sum_combination_acc)\n",
    "print(f'mean:\\t{sum_combination_acc_array.mean()}')\n",
    "print(f'std:\\t{sum_combination_acc_array.std()}')"
   ]
  },
  {
   "cell_type": "markdown",
   "metadata": {},
   "source": [
    "### $g(x_j, x_k) = (x_j + x_k)^2$"
   ]
  },
  {
   "cell_type": "code",
   "execution_count": 330,
   "metadata": {},
   "outputs": [],
   "source": [
    "dataset['combined_1'] = (dataset['x_0'] + dataset['x_1'])**2\n",
    "dataset['combined_2'] = (dataset['x_2'] + dataset['x_3'])**2\n",
    "\n",
    "x_data = torch.tensor(dataset[['combined_1','combined_2']].values, dtype=torch.float32)\n",
    "y_data = torch.tensor(dataset['is_outside'].values, dtype=torch.float32)\n",
    "\n",
    "x_train, x_valid, y_train, y_valid = train_test_split(x_data, y_data, test_size=0.3, shuffle=True)\n",
    "\n",
    "train_dataset = SimpleDataset(x_train, y_train)\n",
    "train_dataloader = DataLoader(train_dataset, batch_size=100, shuffle=True)"
   ]
  },
  {
   "cell_type": "code",
   "execution_count": 331,
   "metadata": {},
   "outputs": [
    {
     "name": "stdout",
     "output_type": "stream",
     "text": [
      "0\tacc:\t0.83\r"
     ]
    }
   ],
   "source": [
    "sum_sq_combination_acc = []\n",
    "\n",
    "for i in range(1):\n",
    "    model = MyNetwork(combined=True)\n",
    "    train_model(model, train_dataloader)\n",
    "    acc = test_model(model, x_valid, y_valid)\n",
    "    sum_sq_combination_acc.append(acc)\n",
    "    print(f'{i}\\tacc:\\t{acc:.2f}', end='\\r')"
   ]
  },
  {
   "cell_type": "code",
   "execution_count": 115,
   "metadata": {},
   "outputs": [
    {
     "name": "stdout",
     "output_type": "stream",
     "text": [
      "mean:\t0.8825\n",
      "std:\t0.0014433756729740495\n"
     ]
    }
   ],
   "source": [
    "sum_combination_acc_array = np.array(sum_sq_combination_acc)\n",
    "print(f'mean:\\t{sum_combination_acc_array.mean()}')\n",
    "print(f'std:\\t{sum_combination_acc_array.std()}')"
   ]
  },
  {
   "cell_type": "markdown",
   "metadata": {},
   "source": [
    "### $g(x_j, x_k) = (x_j^2 \\times x_k^2)$"
   ]
  },
  {
   "cell_type": "code",
   "execution_count": 334,
   "metadata": {},
   "outputs": [],
   "source": [
    "dataset['combined_1'] = (dataset['x_0']**2) * (dataset['x_1']**2)\n",
    "dataset['combined_2'] = (dataset['x_2']**2) * (dataset['x_3']**2)\n",
    "\n",
    "x_data = torch.tensor(dataset[['combined_1','combined_2']].values, dtype=torch.float32)\n",
    "y_data = torch.tensor(dataset['is_outside'].values, dtype=torch.float32)\n",
    "\n",
    "x_train, x_valid, y_train, y_valid = train_test_split(x_data, y_data, test_size=0.3, shuffle=True)\n",
    "\n",
    "train_dataset = SimpleDataset(x_train, y_train)\n",
    "train_dataloader = DataLoader(train_dataset, batch_size=100, shuffle=True)"
   ]
  },
  {
   "cell_type": "code",
   "execution_count": 335,
   "metadata": {},
   "outputs": [
    {
     "name": "stdout",
     "output_type": "stream",
     "text": [
      "0\tacc:\t0.95\r"
     ]
    }
   ],
   "source": [
    "multiply_sq_combination_acc = []\n",
    "\n",
    "for i in range(1):\n",
    "    model = MyNetwork(combined=True)\n",
    "    train_model(model, train_dataloader)\n",
    "    acc = test_model(model, x_valid, y_valid)\n",
    "    multiply_sq_combination_acc.append(acc)\n",
    "    print(f'{i}\\tacc:\\t{acc:.2f}', end='\\r')"
   ]
  },
  {
   "cell_type": "code",
   "execution_count": 114,
   "metadata": {},
   "outputs": [
    {
     "name": "stdout",
     "output_type": "stream",
     "text": [
      "mean:\t0.9587666666666665\n",
      "std:\t0.003321813427097383\n"
     ]
    }
   ],
   "source": [
    "multiply_sq_combination_acc = np.array(multiply_sq_combination_acc)\n",
    "print(f'mean:\\t{multiply_sq_combination_acc.mean()}')\n",
    "print(f'std:\\t{multiply_sq_combination_acc.std()}')"
   ]
  },
  {
   "cell_type": "markdown",
   "metadata": {},
   "source": [
    "### Plot"
   ]
  },
  {
   "cell_type": "code",
   "execution_count": 12,
   "metadata": {},
   "outputs": [],
   "source": [
    "import matplotlib.pyplot as plt\n",
    "import numpy as np"
   ]
  },
  {
   "cell_type": "code",
   "execution_count": 13,
   "metadata": {},
   "outputs": [],
   "source": [
    "# These values come from running the cells above.\n",
    "\n",
    "no_comb_mean = 0.954\n",
    "no_comb_std = 0.020\n",
    "\n",
    "ideal_mean = 0.993\n",
    "ideal_std = 0.0\n",
    "\n",
    "sum_mean = 0.87\n",
    "sum_std = 0.008\n",
    "\n",
    "sum_sq_mean = 0.8825\n",
    "sum_sq_std = 0.001\n",
    "\n",
    "multiply_mean = 0.95\n",
    "multiply_std = 0.005\n",
    "mult_sq_mean = 0.96\n",
    "mult_sq_std = 0.003"
   ]
  },
  {
   "cell_type": "code",
   "execution_count": 14,
   "metadata": {},
   "outputs": [],
   "source": [
    "palette = plt.get_cmap('tab20').colors\n",
    "\n",
    "colors = [\n",
    "    palette[0],\n",
    "    palette[1],\n",
    "    palette[2],\n",
    "    palette[3],\n",
    "    palette[4],\n",
    "    palette[6]\n",
    "]"
   ]
  },
  {
   "cell_type": "code",
   "execution_count": 15,
   "metadata": {},
   "outputs": [],
   "source": [
    "means = np.array([\n",
    "    sum_mean,\n",
    "    sum_sq_mean,\n",
    "    multiply_mean,\n",
    "    mult_sq_mean,\n",
    "    ideal_mean,\n",
    "    no_comb_mean\n",
    "])\n",
    "\n",
    "error = np.array([\n",
    "    sum_std,\n",
    "    sum_sq_std,\n",
    "    multiply_std,\n",
    "    mult_sq_std,\n",
    "    ideal_std,\n",
    "    no_comb_std\n",
    "])\n",
    "\n",
    "techniques = [\n",
    "    '$(x_j + x_k)$',\n",
    "    '$(x_j + x_k)^2$',\n",
    "    '$(x_j \\\\times x_k)$',\n",
    "    '$(x_j \\\\times x_k)^2$',\n",
    "    '$\\\\frac{1}{2} ( x_j^2 + x_k^2) $',\n",
    "    'Independent',\n",
    "    ]\n",
    "\n",
    "x_pos = np.arange(len(techniques))"
   ]
  },
  {
   "cell_type": "code",
   "execution_count": 16,
   "metadata": {},
   "outputs": [
    {
     "data": {
      "text/plain": [
       "Text(0.5, 0, 'Accuracy [%]')"
      ]
     },
     "execution_count": 16,
     "metadata": {},
     "output_type": "execute_result"
    },
    {
     "data": {
      "image/png": "[encoded data removed]",
      "text/plain": [
       "<Figure size 200x200 with 1 Axes>"
      ]
     },
     "metadata": {},
     "output_type": "display_data"
    }
   ],
   "source": [
    "fig, ax = plt.subplots(figsize=(2,2))\n",
    "ax.barh(\n",
    "    x_pos,\n",
    "    100*means,\n",
    "    xerr=100*error,\n",
    "    align='center',\n",
    "    alpha=0.5,\n",
    "    ecolor='darkgrey',\n",
    "    color=colors,\n",
    "    capsize=5\n",
    ")\n",
    "\n",
    "ax.set_yticks(x_pos)\n",
    "ax.set_yticklabels(techniques, rotation = 0)\n",
    "\n",
    "ax.set_xbound(80,101)\n",
    "ax.set_ybound(-1,6)\n",
    "\n",
    "ax.set_ylabel(\"$g(x_j, x_k)$\")\n",
    "ax.set_xlabel(\"Accuracy [%]\")"
   ]
  }
 ],
 "metadata": {
  "kernelspec": {
   "display_name": "photon-nn",
   "language": "python",
   "name": "python3"
  },
  "language_info": {
   "codemirror_mode": {
    "name": "ipython",
    "version": 3
   },
   "file_extension": ".py",
   "mimetype": "text/x-python",
   "name": "python",
   "nbconvert_exporter": "python",
   "pygments_lexer": "ipython3",
   "version": "3.8.16"
  }
 },
 "nbformat": 4,
 "nbformat_minor": 2
}
